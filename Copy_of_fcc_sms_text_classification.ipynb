{
  "cells": [
    {
      "cell_type": "markdown",
      "metadata": {
        "id": "view-in-github",
        "colab_type": "text"
      },
      "source": [
        "<a href=\"https://colab.research.google.com/github/bhuvanesh-o/personal-portfolio/blob/main/Copy_of_fcc_sms_text_classification.ipynb\" target=\"_parent\"><img src=\"https://colab.research.google.com/assets/colab-badge.svg\" alt=\"Open In Colab\"/></a>"
      ]
    },
    {
      "cell_type": "code",
      "execution_count": null,
      "metadata": {
        "id": "8RZOuS9LWQvv"
      },
      "outputs": [],
      "source": [
        "# import libraries\n",
        "try:\n",
        "  # %tensorflow_version only exists in Colab.\n",
        "  !pip install tf-nightly\n",
        "except Exception:\n",
        "  pass\n",
        "import tensorflow as tf\n",
        "import pandas as pd\n",
        "from tensorflow import keras\n",
        "!pip install tensorflow-datasets\n",
        "import tensorflow_datasets as tfds\n",
        "import numpy as np\n",
        "import matplotlib.pyplot as plt\n",
        "\n",
        "print(tf.__version__)"
      ]
    },
    {
      "cell_type": "code",
      "execution_count": null,
      "metadata": {
        "id": "lMHwYXHXCar3"
      },
      "outputs": [],
      "source": [
        "# get data files\n",
        "!wget https://cdn.freecodecamp.org/project-data/sms/train-data.tsv\n",
        "!wget https://cdn.freecodecamp.org/project-data/sms/valid-data.tsv\n",
        "\n",
        "train_file_path = \"train-data.tsv\"\n",
        "test_file_path = \"valid-data.tsv\""
      ]
    },
    {
      "cell_type": "code",
      "execution_count": null,
      "metadata": {
        "id": "g_h508FEClxO"
      },
      "outputs": [],
      "source": [
        "#1\n",
        "\n",
        "# we should read the files and then load them into pandas for preprocessing and model training\n",
        "\n",
        "# Load the TSV data into pandas DataFrames\n",
        "\n",
        "train_data = pd.read_csv(train_file_path, sep=\"\\t\", names=[\"label\", \"message\"])\n",
        "test_data = pd.read_csv(test_file_path, sep=\"\\t\", names=[\"label\", \"message\"])\n"
      ]
    },
    {
      "cell_type": "code",
      "execution_count": null,
      "metadata": {
        "id": "zOMKywn4zReN"
      },
      "outputs": [],
      "source": [
        "#2\n",
        "\n",
        "# encode them into \"ham\" and \"spam\" (0 and 1) - becuase in the tsv file we have ham and spam\n",
        "\n",
        "# Convert labels to 0 and 1\n",
        "label_map = {'ham': 0, 'spam': 1}\n",
        "train_labels = [label_map[label] for label in train_data['label']]\n",
        "test_labels = [label_map[label] for label in test_data['label']]"
      ]
    },
    {
      "cell_type": "code",
      "source": [
        "#3\n",
        "\n",
        "# tokenise and padding\n",
        "\n",
        "# Tokenize and pad sequences\n",
        "\n",
        "tokenizer = tf.keras.preprocessing.text.Tokenizer(num_words=10000, oov_token=\"<OOV>\") # Tokenizer is a Keras utility that turns words -> integers & takes top 10000 words (in this)\n",
        "tokenizer.fit_on_texts(train_data['message']) # it will assign a number for every word in the message in a dictionary format\n",
        "\n",
        "train_sequences = tokenizer.texts_to_sequences(train_data['message']) # we will be converting the messages into a sequence of numbers for BOTH test and train -----> \"Free call now\" → [2, 3, 4]\n",
        "test_sequences = tokenizer.texts_to_sequences(test_data['message'])\n",
        "\n",
        "\n",
        "\n",
        "max_length = 100\n",
        "\n",
        "train_padded = tf.keras.preprocessing.sequence.pad_sequences(\n",
        "    train_sequences, maxlen=max_length, padding='post', truncating='post'   # we are padding in order to have same length and here it is 100\n",
        ")\n",
        "\n",
        "test_padded = tf.keras.preprocessing.sequence.pad_sequences(\n",
        "    test_sequences, maxlen=max_length, padding='post', truncating='post'\n",
        ")\n"
      ],
      "metadata": {
        "id": "hc86CPlX7RLc"
      },
      "execution_count": null,
      "outputs": []
    },
    {
      "cell_type": "code",
      "source": [
        "#4\n",
        "\n",
        "# Building the Model\n",
        "\n",
        "model = tf.keras.Sequential([\n",
        "    tf.keras.layers.Embedding(input_dim=10000, output_dim=16, input_length=100), # top 10000 words, each word will be represented as a 16-dimensional vector, padded/truncated to 100 words\n",
        "    tf.keras.layers.GlobalAveragePooling1D(),  # Output shape becomes just one 16-dimensional vector per message.\n",
        "    tf.keras.layers.Dense(24, activation='relu'),\n",
        "    tf.keras.layers.Dense(1, activation='sigmoid')\n",
        "])\n"
      ],
      "metadata": {
        "id": "UqXL_lGoVaD9"
      },
      "execution_count": null,
      "outputs": []
    },
    {
      "cell_type": "code",
      "source": [
        "#5\n",
        "\n",
        "# Convert labels to NumPy array\n",
        "train_labels = np.array(train_labels)\n",
        "\n",
        "# Train & Compile the Model\n",
        "\n",
        "model.compile(optimizer='adam', loss='binary_crossentropy', metrics=['accuracy'])\n",
        "model.fit(train_padded, train_labels, epochs=25, validation_split=0.2)"
      ],
      "metadata": {
        "id": "sYtLbGGhksLu"
      },
      "execution_count": null,
      "outputs": []
    },
    {
      "cell_type": "code",
      "source": [],
      "metadata": {
        "id": "9tslaRm2k9FU"
      },
      "execution_count": null,
      "outputs": []
    },
    {
      "cell_type": "code",
      "execution_count": null,
      "metadata": {
        "id": "J9tD9yACG6M9"
      },
      "outputs": [],
      "source": [
        "# function to predict messages based on model\n",
        "# (should return list containing prediction and label, ex. [0.008318834938108921, 'ham'])\n",
        "def predict_message(pred_text):\n",
        "\n",
        "   # Convert text to sequence of word indices\n",
        "    seq = tokenizer.texts_to_sequences([pred_text])\n",
        "\n",
        "    # Pad sequence to match training input length\n",
        "    padded = tf.keras.preprocessing.sequence.pad_sequences(\n",
        "        seq, maxlen=max_length, padding='post', truncating='post'\n",
        "    )\n",
        "\n",
        "    # Predict the probability that the message is spam\n",
        "    prob = model.predict(padded)[0][0]\n",
        "\n",
        "    # Determine the label based on probability\n",
        "    label = 'spam' if prob >= 0.5 else 'ham'\n",
        "\n",
        "    # Return as a list: [probability, label]\n",
        "    return [float(prob), label]\n",
        "\n",
        "\n",
        "pred_text = \"how are you doing today?\"\n",
        "\n",
        "prediction = predict_message(pred_text)\n",
        "print(prediction)"
      ]
    },
    {
      "cell_type": "code",
      "execution_count": null,
      "metadata": {
        "id": "Dxotov85SjsC"
      },
      "outputs": [],
      "source": [
        "# Run this cell to test your function and model. Do not modify contents.\n",
        "def test_predictions():\n",
        "  test_messages = [\"how are you doing today\",\n",
        "                   \"sale today! to stop texts call 98912460324\",\n",
        "                   \"i dont want to go. can we try it a different day? available sat\",\n",
        "                   \"our new mobile video service is live. just install on your phone to start watching.\",\n",
        "                   \"you have won £1000 cash! call to claim your prize.\",\n",
        "                   \"i'll bring it tomorrow. don't forget the milk.\",\n",
        "                   \"wow, is your arm alright. that happened to me one time too\"\n",
        "                  ]\n",
        "\n",
        "  test_answers = [\"ham\", \"spam\", \"ham\", \"spam\", \"spam\", \"ham\", \"ham\"]\n",
        "  passed = True\n",
        "\n",
        "  for msg, ans in zip(test_messages, test_answers):\n",
        "    prediction = predict_message(msg)\n",
        "    if prediction[1] != ans:\n",
        "      passed = False\n",
        "\n",
        "  if passed:\n",
        "    print(\"You passed the challenge. Great job!\")\n",
        "  else:\n",
        "    print(\"You haven't passed yet. Keep trying.\")\n",
        "\n",
        "test_predictions()\n"
      ]
    }
  ],
  "metadata": {
    "colab": {
      "private_outputs": true,
      "provenance": [],
      "include_colab_link": true
    },
    "kernelspec": {
      "display_name": "Python 3",
      "name": "python3"
    },
    "language_info": {}
  },
  "nbformat": 4,
  "nbformat_minor": 0
}